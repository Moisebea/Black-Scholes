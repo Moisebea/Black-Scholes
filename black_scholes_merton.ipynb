{
 "cells": [
  {
   "attachments": {},
   "cell_type": "markdown",
   "metadata": {},
   "source": [
    "#implementing the black_scholes formula in python"
   ]
  },
  {
   "cell_type": "code",
   "execution_count": 2,
   "metadata": {},
   "outputs": [],
   "source": [
    "import numpy as np\n",
    "from scipy.stats import norm"
   ]
  },
  {
   "attachments": {},
   "cell_type": "markdown",
   "metadata": {},
   "source": [
    "#Define variables"
   ]
  },
  {
   "cell_type": "code",
   "execution_count": 4,
   "metadata": {},
   "outputs": [],
   "source": [
    "r = 0.01\n",
    "S = 30\n",
    "K = 40\n",
    "T = 240/365\n",
    "sigma = 0.30"
   ]
  },
  {
   "cell_type": "code",
   "execution_count": 7,
   "metadata": {},
   "outputs": [
    {
     "name": "stdout",
     "output_type": "stream",
     "text": [
      "Option Price is:  10.25\n"
     ]
    }
   ],
   "source": [
    "def blackscholes(r ,S ,K ,T ,sigma, type):\n",
    "    type=input('enter the option type')\n",
    "    'Calculate bs option price for a call/put'\n",
    "    d1 = (np.log(S/K)+ (r+sigma**2/2)*T)/(sigma*np.sqrt(T))\n",
    "    d2 =d1 -sigma*np.sqrt(T)\n",
    "    try:\n",
    "        if type == 'C':\n",
    "            price= S*norm.cdf(d1,0,1)-K*np.exp(-r*T)*norm.cdf(d2,0,1)\n",
    "        elif type =='P':\n",
    "            price=K*np.exp(-r*T)*norm.cdf(-d2,0,1)-S*norm.cdf(-d1,0,1)\n",
    "        return price\n",
    "    except:\n",
    "        print('Please confirm all option parameter !')\n",
    "\n",
    "print('Option Price is: ',round(blackscholes(r ,S ,K, T,sigma ,type),2))"
   ]
  }
 ],
 "metadata": {
  "kernelspec": {
   "display_name": "Python 3",
   "language": "python",
   "name": "python3"
  },
  "language_info": {
   "codemirror_mode": {
    "name": "ipython",
    "version": 3
   },
   "file_extension": ".py",
   "mimetype": "text/x-python",
   "name": "python",
   "nbconvert_exporter": "python",
   "pygments_lexer": "ipython3",
   "version": "3.11.0"
  },
  "orig_nbformat": 4
 },
 "nbformat": 4,
 "nbformat_minor": 2
}
